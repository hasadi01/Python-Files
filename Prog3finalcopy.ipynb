{
 "cells": [
  {
   "cell_type": "code",
   "execution_count": 24,
   "id": "19d1bdda-26b8-4ddc-985f-d470a21e1b44",
   "metadata": {},
   "outputs": [
    {
     "name": "stdin",
     "output_type": "stream",
     "text": [
      "Enter the roster data:  44 9 11 5 7 8 82 6 95 11\n"
     ]
    },
    {
     "name": "stdout",
     "output_type": "stream",
     "text": [
      "MENU\n",
      "a - Add player\n",
      "d - Remove player\n",
      "u - Update player rating\n",
      "r - Output players above a rating\n",
      "o - Output roster\n",
      "q - Quit\n"
     ]
    },
    {
     "name": "stdin",
     "output_type": "stream",
     "text": [
      "Choose an option:  x\n"
     ]
    },
    {
     "name": "stdout",
     "output_type": "stream",
     "text": [
      "Enter a value from the Menu: \n",
      "MENU\n",
      "a - Add player\n",
      "d - Remove player\n",
      "u - Update player rating\n",
      "r - Output players above a rating\n",
      "o - Output roster\n",
      "q - Quit\n"
     ]
    },
    {
     "name": "stdin",
     "output_type": "stream",
     "text": [
      "Choose an option:  o\n"
     ]
    },
    {
     "name": "stdout",
     "output_type": "stream",
     "text": [
      "Jersey Number   Rating\n",
      "            7        8\n",
      "           11        5\n",
      "           44        9\n",
      "           82        6\n",
      "MENU\n",
      "a - Add player\n",
      "d - Remove player\n",
      "u - Update player rating\n",
      "r - Output players above a rating\n",
      "o - Output roster\n",
      "q - Quit\n"
     ]
    },
    {
     "name": "stdin",
     "output_type": "stream",
     "text": [
      "Choose an option:  a\n",
      "Enter new Jersey Number:  99\n",
      "Enter new Power Rating:  2\n"
     ]
    },
    {
     "name": "stdout",
     "output_type": "stream",
     "text": [
      "MENU\n",
      "a - Add player\n",
      "d - Remove player\n",
      "u - Update player rating\n",
      "r - Output players above a rating\n",
      "o - Output roster\n",
      "q - Quit\n"
     ]
    },
    {
     "name": "stdin",
     "output_type": "stream",
     "text": [
      "Choose an option:  o\n"
     ]
    },
    {
     "name": "stdout",
     "output_type": "stream",
     "text": [
      "Jersey Number   Rating\n",
      "            7        8\n",
      "           11        5\n",
      "           44        9\n",
      "           82        6\n",
      "           99        2\n",
      "MENU\n",
      "a - Add player\n",
      "d - Remove player\n",
      "u - Update player rating\n",
      "r - Output players above a rating\n",
      "o - Output roster\n",
      "q - Quit\n"
     ]
    },
    {
     "name": "stdin",
     "output_type": "stream",
     "text": [
      "Choose an option:  d\n",
      "Enter existing Jersey Number:  99\n"
     ]
    },
    {
     "name": "stdout",
     "output_type": "stream",
     "text": [
      "MENU\n",
      "a - Add player\n",
      "d - Remove player\n",
      "u - Update player rating\n",
      "r - Output players above a rating\n",
      "o - Output roster\n",
      "q - Quit\n"
     ]
    },
    {
     "name": "stdin",
     "output_type": "stream",
     "text": [
      "Choose an option:  o\n"
     ]
    },
    {
     "name": "stdout",
     "output_type": "stream",
     "text": [
      "Jersey Number   Rating\n",
      "            7        8\n",
      "           11        5\n",
      "           44        9\n",
      "           82        6\n",
      "MENU\n",
      "a - Add player\n",
      "d - Remove player\n",
      "u - Update player rating\n",
      "r - Output players above a rating\n",
      "o - Output roster\n",
      "q - Quit\n"
     ]
    },
    {
     "name": "stdin",
     "output_type": "stream",
     "text": [
      "Choose an option:  u\n",
      "Enter existing Jersey Number:  44\n",
      "Enter existing Power Rating:  3\n"
     ]
    },
    {
     "name": "stdout",
     "output_type": "stream",
     "text": [
      "MENU\n",
      "a - Add player\n",
      "d - Remove player\n",
      "u - Update player rating\n",
      "r - Output players above a rating\n",
      "o - Output roster\n",
      "q - Quit\n"
     ]
    },
    {
     "name": "stdin",
     "output_type": "stream",
     "text": [
      "Choose an option:  o\n"
     ]
    },
    {
     "name": "stdout",
     "output_type": "stream",
     "text": [
      "Jersey Number   Rating\n",
      "            7        8\n",
      "           11        5\n",
      "           44        3\n",
      "           82        6\n",
      "MENU\n",
      "a - Add player\n",
      "d - Remove player\n",
      "u - Update player rating\n",
      "r - Output players above a rating\n",
      "o - Output roster\n",
      "q - Quit\n"
     ]
    },
    {
     "name": "stdin",
     "output_type": "stream",
     "text": [
      "Choose an option:  r\n",
      "Enter a power rating:  5\n"
     ]
    },
    {
     "name": "stdout",
     "output_type": "stream",
     "text": [
      "11\n",
      "7\n",
      "82\n",
      "MENU\n",
      "a - Add player\n",
      "d - Remove player\n",
      "u - Update player rating\n",
      "r - Output players above a rating\n",
      "o - Output roster\n",
      "q - Quit\n"
     ]
    },
    {
     "name": "stdin",
     "output_type": "stream",
     "text": [
      "Choose an option:  o\n"
     ]
    },
    {
     "name": "stdout",
     "output_type": "stream",
     "text": [
      "Jersey Number   Rating\n",
      "            7        8\n",
      "           11        5\n",
      "           44        3\n",
      "           82        6\n",
      "MENU\n",
      "a - Add player\n",
      "d - Remove player\n",
      "u - Update player rating\n",
      "r - Output players above a rating\n",
      "o - Output roster\n",
      "q - Quit\n"
     ]
    },
    {
     "name": "stdin",
     "output_type": "stream",
     "text": [
      "Choose an option:  q\n"
     ]
    }
   ],
   "source": [
    "#CIS 443-01\n",
    "#Grading ID: P7161\n",
    "#Program 3\n",
    "#Due: 11/10/2021\n",
    "\n",
    "roster = {}\n",
    "roster_data = input(\"Enter the roster data: \")\n",
    "tokens = roster_data.split()\n",
    "length = len(tokens)\n",
    "if length % 2 != 0:\n",
    "    length -= 1 #if odd number, ignore last number\n",
    "    \n",
    "for i in range(0, length - 2, 2): #minus two because it is iterating by 2\n",
    "    jersey_number = int(tokens[i])\n",
    "    power_rating = int(tokens[i+1])\n",
    "    if jersey_number >= 0 and jersey_number <= 99 and power_rating >= 1 and power_rating <= 10:\n",
    "        roster.update({jersey_number:power_rating})\n",
    "\n",
    "operating = True\n",
    "while operating:\n",
    "    print(\"MENU\")\n",
    "    print(\"a - Add player\")\n",
    "    print(\"d - Remove player\")\n",
    "    print(\"u - Update player rating\")\n",
    "    print(\"r - Output players above a rating\")\n",
    "    print(\"o - Output roster\")\n",
    "    print(\"q - Quit\")\n",
    "    option = input(\"Choose an option: \").lower()\n",
    "    if option == \"a\":\n",
    "        jersey_number = int(input(\"Enter new Jersey Number: \"))\n",
    "        power_rating = int(input(\"Enter new Power Rating: \"))\n",
    "        if jersey_number >= 0 and jersey_number <= 99 and power_rating >= 1 and power_rating <= 10:\n",
    "            roster.update({jersey_number:power_rating})\n",
    "    elif option == \"d\":\n",
    "        jersey_number = int(input(\"Enter existing Jersey Number: \"))\n",
    "        del roster[jersey_number]\n",
    "    elif option == \"u\":\n",
    "        jersey_number = int(input(\"Enter existing Jersey Number: \"))\n",
    "        power_rating = int(input(\"Enter existing Power Rating: \"))\n",
    "        if jersey_number >= 0 and jersey_number <= 99 and power_rating >= 1 and power_rating <= 10:\n",
    "            roster.update({jersey_number:power_rating})\n",
    "    elif option == \"r\":\n",
    "        power_rating = int(input(\"Enter a power rating: \"))\n",
    "        for jersey_number in roster:\n",
    "            if roster[jersey_number] >= power_rating:\n",
    "                print(jersey_number)\n",
    "    elif option == \"o\":\n",
    "        print(f\"Jersey Number   Rating\")\n",
    "        for jersey_number, power_rating in sorted(roster.items()):\n",
    "            print(f'{jersey_number:>13}{power_rating:>9}')\n",
    "    elif option == \"q\":\n",
    "        operating = False\n",
    "    else:\n",
    "        print(\"Enter a value from the Menu: \") #output if user doesn't enter letter from menu"
   ]
  }
 ],
 "metadata": {
  "kernelspec": {
   "display_name": "Python 3",
   "language": "python",
   "name": "python3"
  },
  "language_info": {
   "codemirror_mode": {
    "name": "ipython",
    "version": 3
   },
   "file_extension": ".py",
   "mimetype": "text/x-python",
   "name": "python",
   "nbconvert_exporter": "python",
   "pygments_lexer": "ipython3",
   "version": "3.8.8"
  }
 },
 "nbformat": 4,
 "nbformat_minor": 5
}
