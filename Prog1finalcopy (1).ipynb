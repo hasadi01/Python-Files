{
 "cells": [
  {
   "cell_type": "markdown",
   "metadata": {
    "id": "GacMba-5t1SX"
   },
   "source": [
    "# CIS 443-01 - Analytics Programming\n",
    "## Program 1\n",
    "__Grading ID__: PXXXX(double click the cell in Jupyter to edit)<br>\n",
    "__Due__: Monday, September 20 (by 11:59 PM)<br />\n",
    "__Worth__: 50 pts.<br />\n",
    "__Purpose__: Use repetition control structure and accumulator pattern to estimate value of π."
   ]
  },
  {
   "cell_type": "markdown",
   "metadata": {
    "id": "WjernZjFt1Sa"
   },
   "source": [
    "### Directions\n",
    "In the code cell below, write Python code to accomplish the following using what you've learned through Chapter 3. Complete Exercise 3.14 from p. 114.\n",
    "\n",
    "![Prog1-Pi-Formula.webp](data:image/webp;base64,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)\n",
    "\n",
    "Write your solution to allow the user to enter a value for the number of terms that they want the code to run for in the approximation calculation. Output the estimate after each term is added in a tabular format, using f-strings, field width, and right-alignment. Print the term number in a field with width of 8 and the estimate of π in a field with width of 10 and 6 digits after the decimal. (45 pts.)\n",
    "\n",
    "Use your code to answer the questions cells below. (5 pts.)\n",
    "\n",
    "I suggest that you develop your solution in steps. You must alternate between subtraction and addition on each term (or, use addition with a coefficient that alternates from -1 to +1 on each term), so you might start with that. The denominator is going up by 2s each term, so 3, 5, 7, etc., so maybe get that working next. Once you have all the pieces working, then you put it together in a summation (that starts from 4 instead of 0 for this series).\n",
    "\n",
    "If you prefer, you may submit a Python script instead (_Prog1.py_) of a notebook but remember to answer the questions below by including them in comments at end of script if you choose this route.\n",
    "\n",
    "If you wish to incorporate a little of Chapter 4, put the code for the estimation in a method named _pi_estimator_ that accepts number of terms as a parameter.\n",
    "\n",
    "__Note__: To answer the questions below about how many terms are needed to reach a specific approximation, you will probably want to use a while loop to continue the calculation term by term until the specified approximation is reached. You'll either want to truncate the estimate or round the estimate when deciding if it matches the specified approximation."
   ]
  },
  {
   "cell_type": "code",
   "execution_count": 33,
   "metadata": {
    "id": "8ZZORCgut1Sb"
   },
   "outputs": [
    {
     "name": "stdin",
     "output_type": "stream",
     "text": [
      "Enter a value to decide the number of terms the code will run:  120\n"
     ]
    },
    {
     "name": "stdout",
     "output_type": "stream",
     "text": [
      "Term #   Approximation\n",
      "-------- -------------\n",
      "       1   2.66667\n",
      "       2   3.46667\n",
      "       3   2.89524\n",
      "       4   3.33968\n",
      "       5   2.97605\n",
      "       6   3.28374\n",
      "       7   3.01707\n",
      "       8   3.25237\n",
      "       9   3.04184\n",
      "      10   3.23232\n",
      "      11    3.0584\n",
      "      12    3.2184\n",
      "      13   3.07025\n",
      "      14   3.20819\n",
      "      15   3.07915\n",
      "      16   3.20037\n",
      "      17   3.08608\n",
      "      18   3.19419\n",
      "      19   3.09162\n",
      "      20   3.18918\n",
      "      21   3.09616\n",
      "      22   3.18505\n",
      "      23   3.09994\n",
      "      24   3.18158\n",
      "      25   3.10315\n",
      "      26   3.17862\n",
      "      27   3.10589\n",
      "      28   3.17607\n",
      "      29   3.10827\n",
      "      30   3.17384\n",
      "      31   3.11035\n",
      "      32   3.17189\n",
      "      33   3.11219\n",
      "      34   3.17016\n",
      "      35   3.11382\n",
      "      36   3.16861\n",
      "      37   3.11528\n",
      "      38   3.16723\n",
      "      39    3.1166\n",
      "      40   3.16598\n",
      "      41   3.11779\n",
      "      42   3.16485\n",
      "      43   3.11887\n",
      "      44   3.16381\n",
      "      45   3.11986\n",
      "      46   3.16287\n",
      "      47   3.12076\n",
      "      48     3.162\n",
      "      49   3.12159\n",
      "      50    3.1612\n",
      "      51   3.12236\n",
      "      52   3.16046\n",
      "      53   3.12308\n",
      "      54   3.15977\n",
      "      55   3.12374\n",
      "      56   3.15914\n",
      "      57   3.12435\n",
      "      58   3.15854\n",
      "      59   3.12493\n",
      "      60   3.15798\n",
      "      61   3.12546\n",
      "      62   3.15746\n",
      "      63   3.12597\n",
      "      64   3.15698\n",
      "      65   3.12644\n",
      "      66   3.15652\n",
      "      67   3.12689\n",
      "      68   3.15608\n",
      "      69   3.12731\n",
      "      70   3.15568\n",
      "      71    3.1277\n",
      "      72   3.15529\n",
      "      73   3.12808\n",
      "      74   3.15493\n",
      "      75   3.12844\n",
      "      76   3.15458\n",
      "      77   3.12877\n",
      "      78   3.15425\n",
      "      79   3.12909\n",
      "      80   3.15394\n",
      "      81    3.1294\n",
      "      82   3.15364\n",
      "      83   3.12969\n",
      "      84   3.15336\n",
      "      85   3.12997\n",
      "      86   3.15309\n",
      "      87   3.13023\n",
      "      88   3.15283\n",
      "      89   3.13048\n",
      "      90   3.15258\n",
      "      91   3.13072\n",
      "      92   3.15235\n",
      "      93   3.13095\n",
      "      94   3.15212\n",
      "      95   3.13118\n",
      "      96    3.1519\n",
      "      97   3.13139\n",
      "      98   3.15169\n",
      "      99   3.13159\n",
      "     100   3.15149\n",
      "     101   3.13179\n",
      "     102    3.1513\n",
      "     103   3.13198\n",
      "     104   3.15112\n",
      "     105   3.13216\n",
      "     106   3.15094\n",
      "     107   3.13233\n",
      "     108   3.15077\n",
      "     109    3.1325\n",
      "     110    3.1506\n",
      "     111   3.13266\n",
      "     112   3.15044\n",
      "     113   3.13282\n",
      "     114   3.15029\n",
      "     115   3.13297\n",
      "     116   3.15014\n",
      "     117   3.13312\n",
      "     118      3.15\n",
      "     119   3.13326\n",
      "     120   3.14986\n"
     ]
    }
   ],
   "source": [
    "# Program 1, CIS 443-01\n",
    "# ID: P7161\n",
    "# DUE: 9/20/21\n",
    "# This program estimates the value of pi using a user's input through definite repetition\n",
    "# The second part of the program finds how many terms are needed to find a certain amount of decimals of pi through indefinite\n",
    "# repetition\n",
    "\n",
    "number = int(input(\"Enter a value to decide the number of terms the code will run: \")) \n",
    "pi = 4\n",
    "sign = -1\n",
    "denominator = 3\n",
    "\n",
    "print(\"Term #   Approximation\")\n",
    "print(\"-------- -------------\")\n",
    "\n",
    "for piece in range(number):\n",
    "    pi += (4 / denominator) * sign\n",
    "    denominator += 2\n",
    "    sign = -sign # alternating signs\n",
    "    print(f'{piece +1:>8}{pi:>10.6}')"
   ]
  },
  {
   "cell_type": "code",
   "execution_count": 39,
   "metadata": {},
   "outputs": [
    {
     "name": "stdout",
     "output_type": "stream",
     "text": [
      "It takes 118 iterations before it reaches 3.14\n",
      "It takes 1687 iterations before it reaches 3.141\n",
      "It takes 10793 iterations before it reaches 3.1415\n",
      "It takes 136120 iterations before it reaches 3.14159\n"
     ]
    }
   ],
   "source": [
    "pi = 4\n",
    "sign = -1\n",
    "denominator = 3\n",
    "counter = 0\n",
    "\n",
    "while pi < 3.14 or pi >= 3.15: # must be between 3.14 and 3.15 to stop\n",
    "    counter += 1\n",
    "    pi += (4 / denominator) * sign\n",
    "    denominator += 2\n",
    "    sign = -sign\n",
    "\n",
    "print(f'It takes {counter} iterations before it reaches 3.14') \n",
    "\n",
    "while pi < 3.141 or pi >= 3.142: # must be between 3.141 and 3.142 to stop\n",
    "    counter += 1\n",
    "    pi += (4 / denominator) * sign\n",
    "    denominator += 2\n",
    "    sign = -sign\n",
    "\n",
    "print(f'It takes {counter} iterations before it reaches 3.141') \n",
    "\n",
    "while pi < 3.1415 or pi >= 3.1416: # must be between 3.1415 and 3.1416 to stop\n",
    "    counter += 1\n",
    "    pi += (4 / denominator) * sign\n",
    "    denominator += 2\n",
    "    sign = -sign\n",
    "\n",
    "print(f'It takes {counter} iterations before it reaches 3.1415')\n",
    "\n",
    "while pi < 3.14159 or pi >= 3.1416: # must be between 3.14159 and 3.1416 to stop\n",
    "    counter += 1\n",
    "    pi += (4 / denominator) * sign\n",
    "    denominator += 2\n",
    "    sign = -sign\n",
    "\n",
    "print(f'It takes {counter} iterations before it reaches 3.14159')"
   ]
  },
  {
   "cell_type": "markdown",
   "metadata": {
    "id": "yk3sJ9Znt1Sn"
   },
   "source": [
    "**Answer the following**:\n",
    "\n",
    "How many terms of this series do you have to use before you first get 3.14?<br />\n",
    "XX<br />\n",
    "3.141?<br />\n",
    "XX<br />\n",
    "3.1415?<br />\n",
    "XX<br />\n",
    "3.14159?<br />\n",
    "XX<br />\n",
    "Double click the cell in Jupyter to edit (5 pts.)"
   ]
  },
  {
   "cell_type": "markdown",
   "metadata": {
    "id": "bexgWeCMt1Sn"
   },
   "source": [
    "Be sure to save and exit your Jupyter Notebook and Shutdown Jupyter Lab (from the __File__ menu) before you submit your notebook on Blackboard for grading."
   ]
  }
 ],
 "metadata": {
  "colab": {
   "collapsed_sections": [],
   "name": "Prog1.ipynb",
   "provenance": []
  },
  "kernelspec": {
   "display_name": "Python 3",
   "language": "python",
   "name": "python3"
  },
  "language_info": {
   "codemirror_mode": {
    "name": "ipython",
    "version": 3
   },
   "file_extension": ".py",
   "mimetype": "text/x-python",
   "name": "python",
   "nbconvert_exporter": "python",
   "pygments_lexer": "ipython3",
   "version": "3.8.8"
  }
 },
 "nbformat": 4,
 "nbformat_minor": 4
}
